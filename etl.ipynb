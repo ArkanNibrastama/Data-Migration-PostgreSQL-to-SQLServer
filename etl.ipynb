{
 "cells": [
  {
   "cell_type": "code",
   "execution_count": 96,
   "metadata": {},
   "outputs": [],
   "source": [
    "from pyspark import SparkContext, SparkConf\n",
    "from pyspark.sql import SparkSession"
   ]
  },
  {
   "cell_type": "code",
   "execution_count": 97,
   "metadata": {},
   "outputs": [],
   "source": [
    "# set up spark\n",
    "conf = SparkConf()\\\n",
    "    .setAppName(\"data migration\")\\\n",
    "    .setMaster(\"local\")\\\n",
    "    .set(\"spark.driver.extraClassPath\", \"../../jar/*\")\n",
    "\n",
    "sc = SparkContext.getOrCreate(conf=conf)\n",
    "spark = SparkSession(sc)"
   ]
  },
  {
   "cell_type": "code",
   "execution_count": 98,
   "metadata": {},
   "outputs": [],
   "source": [
    "# extract\n",
    "def extract():\n",
    "\n",
    "    try:\n",
    "\n",
    "        uid = '{YOUR USER ID ON POSTGRESQL}'\n",
    "        pwd = '{YOUR PSSWORD}'\n",
    "        host = 'localhost'\n",
    "        port = '5432' #this is the default port\n",
    "        db = '{YOUR DB NAME}'\n",
    "        driver = \"org.postgresql.Driver\"\n",
    "        url = f\"jdbc:postgresql://{host}:5432/{db}?user={uid}&password={pwd}\"\n",
    "\n",
    "        tables_name = ['category_db', 'education_db', 'marital_db', 'status_db', 'customer_data_history']\n",
    "        dfs = []\n",
    "\n",
    "        for table in tables_name:\n",
    "\n",
    "            query = f\"SELECT * FROM {table}\"\n",
    "\n",
    "            df = spark.read.\\\n",
    "                format(\"jdbc\").\\\n",
    "                options(driver=driver, user=uid, password = pwd, url=url, query =query).\\\n",
    "                load()\n",
    "            \n",
    "            dfs.append(df)\n",
    "\n",
    "\n",
    "    except Exception as e:\n",
    "\n",
    "        print(\"error to get database : \"+str(e))\n",
    "\n",
    "    finally:\n",
    "\n",
    "        print(\"successfull to get database\")\n",
    "        return (dfs, tables_name)\n",
    "        "
   ]
  },
  {
   "cell_type": "code",
   "execution_count": 99,
   "metadata": {},
   "outputs": [],
   "source": [
    "#transform\n",
    "def transform(extract):\n",
    "\n",
    "    dfs = extract[0]\n",
    "    tables_name = extract[1]\n",
    "\n",
    "    idx = tables_name.index('customer_data_history')\n",
    "    dfs[idx] = dfs[idx].filter(dfs[idx].Customer_Age < 50)\n",
    "\n",
    "    return (dfs, tables_name)"
   ]
  },
  {
   "cell_type": "code",
   "execution_count": 100,
   "metadata": {},
   "outputs": [],
   "source": [
    "#load\n",
    "def load(transform):\n",
    "\n",
    "    dfs = transform[0]\n",
    "    tables_name = transform[1]\n",
    "\n",
    "    try:\n",
    "\n",
    "        uid = '{YOUR USER ID ON SQL SERVER}'\n",
    "        pwd = '{YOUR PASSWORD}'\n",
    "        host = '{DEVICE NAME}\\SQLEXPRESS'\n",
    "        port = '1433' #this is the default port\n",
    "        db = 'rakamin'\n",
    "        driver = \"com.microsoft.sqlserver.jdbc.SQLServerDriver\"\n",
    "        url = f\"jdbc:sqlserver://{host}:{port};databaseName={db}; user={uid}; password={pwd};encrypt=true;trustServerCertificate=true;\"\n",
    "\n",
    "        for df, table in zip(dfs, tables_name):\n",
    "\n",
    "            df.write.mode(\"overwrite\")\\\n",
    "            .format(\"jdbc\")\\\n",
    "            .options(driver=driver, user=uid, password=pwd, url=url, dbtable=table)\\\n",
    "            .save()\n",
    "\n",
    "    except Exception as e:\n",
    "\n",
    "        print(\"failed to load tables into database \"+str(e))\n",
    "\n",
    "    finally:\n",
    "\n",
    "        print(\"successfull to load tables into database\")"
   ]
  },
  {
   "cell_type": "code",
   "execution_count": 101,
   "metadata": {},
   "outputs": [
    {
     "name": "stdout",
     "output_type": "stream",
     "text": [
      "successfull to get database\n",
      "successfull to load tables into database\n"
     ]
    }
   ],
   "source": [
    "# run\n",
    "extract = extract()\n",
    "transform = transform(extract=extract)\n",
    "load(transform=transform)"
   ]
  }
 ],
 "metadata": {
  "kernelspec": {
   "display_name": "AI",
   "language": "python",
   "name": "python3"
  },
  "language_info": {
   "codemirror_mode": {
    "name": "ipython",
    "version": 3
   },
   "file_extension": ".py",
   "mimetype": "text/x-python",
   "name": "python",
   "nbconvert_exporter": "python",
   "pygments_lexer": "ipython3",
   "version": "3.8.11 (default, Aug  6 2021, 09:57:55) [MSC v.1916 64 bit (AMD64)]"
  },
  "orig_nbformat": 4,
  "vscode": {
   "interpreter": {
    "hash": "04a731b9d516eaee8444114a85b4ac48f38a99071e26995021794ef5d7fa12e8"
   }
  }
 },
 "nbformat": 4,
 "nbformat_minor": 2
}
